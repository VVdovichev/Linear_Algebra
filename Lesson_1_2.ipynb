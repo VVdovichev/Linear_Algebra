{
  "nbformat": 4,
  "nbformat_minor": 0,
  "metadata": {
    "colab": {
      "name": "Lesson_1_2.ipynb",
      "provenance": [],
      "collapsed_sections": [],
      "authorship_tag": "ABX9TyOUrgmvADGdUhdrUO57nxBH",
      "include_colab_link": true
    },
    "kernelspec": {
      "name": "python3",
      "display_name": "Python 3"
    },
    "language_info": {
      "name": "python"
    }
  },
  "cells": [
    {
      "cell_type": "markdown",
      "metadata": {
        "id": "view-in-github",
        "colab_type": "text"
      },
      "source": [
        "<a href=\"https://colab.research.google.com/github/VVdovichev/Linear_Algebra/blob/main/Lesson_1_2.ipynb\" target=\"_parent\"><img src=\"https://colab.research.google.com/assets/colab-badge.svg\" alt=\"Open In Colab\"/></a>"
      ]
    },
    {
      "cell_type": "code",
      "metadata": {
        "id": "Vz85UaCP-7Jh"
      },
      "source": [
        "import numpy as np\n",
        "from numpy.linalg import norm"
      ],
      "execution_count": 9,
      "outputs": []
    },
    {
      "cell_type": "markdown",
      "metadata": {
        "id": "vPQE0oyR-MxS"
      },
      "source": [
        "__1.__ Найти скалярное произведение векторов $$x, y \\in \\mathbb{R}$$\n",
        "а) $$x=(0,-3, 6),~y=(-4, 7, 9)$$\n",
        "б) $$x=(7, -4, 0, 1),~y=(-3, 1, 11, 2)$$"
      ]
    },
    {
      "cell_type": "code",
      "metadata": {
        "colab": {
          "base_uri": "https://localhost:8080/"
        },
        "id": "54mhafeC-6Ic",
        "outputId": "7249fb71-419b-4399-b66e-4f7a1135ce4e"
      },
      "source": [
        "# a)\n",
        "x = np.array([0, -3, 6])\n",
        "y = np.array([-4, 7, 9])\n",
        "print(f'Скалярное произведение векторов: {x @ y}')"
      ],
      "execution_count": 10,
      "outputs": [
        {
          "output_type": "stream",
          "name": "stdout",
          "text": [
            "Скалярное произведение векторов: 33\n"
          ]
        }
      ]
    },
    {
      "cell_type": "code",
      "metadata": {
        "colab": {
          "base_uri": "https://localhost:8080/"
        },
        "id": "BmzJB8GZ-HyM",
        "outputId": "6aad3320-ec3a-4830-f539-c05274d211df"
      },
      "source": [
        "# б)\n",
        "x = np.array([7, -4, 0, 1])\n",
        "y = np.array([-3, 1, 11, 2])\n",
        "print(f'Скалярное произведение векторов: {x @ y}')"
      ],
      "execution_count": 11,
      "outputs": [
        {
          "output_type": "stream",
          "name": "stdout",
          "text": [
            "Скалярное произведение векторов: -23\n"
          ]
        }
      ]
    },
    {
      "cell_type": "markdown",
      "metadata": {
        "id": "oyzuREQQASO-"
      },
      "source": [
        "__2.__ Найти нормы векторов (4, 2, 4) и (12, 3, 4) и угол между ними."
      ]
    },
    {
      "cell_type": "code",
      "metadata": {
        "colab": {
          "base_uri": "https://localhost:8080/"
        },
        "id": "aMYzP0RyAZt7",
        "outputId": "be99fc02-a8b3-408e-a3ba-dd49db8494d6"
      },
      "source": [
        "a = np.array([4, 2, 4])\n",
        "b = np.array([12, 3, 4])\n",
        "print(f'Норма вектора a: {norm(a)}')\n",
        "print(f'Норма вектора b: {norm(b)}')\n",
        "cos_phi = np.dot(a, b) / norm(a) / norm(b)\n",
        "print(f'Косинус угла между a и b: {cos_phi:.2f}')\n",
        "print(f'Угол между a и b: {np.arccos(cos_phi):.2f}')"
      ],
      "execution_count": 12,
      "outputs": [
        {
          "output_type": "stream",
          "name": "stdout",
          "text": [
            "Норма вектора a: 6.0\n",
            "Норма вектора b: 13.0\n",
            "Косинус угла между a и b: 0.90\n",
            "Угол между a и b: 0.46\n"
          ]
        }
      ]
    },
    {
      "cell_type": "markdown",
      "metadata": {
        "id": "FC8UqOldBBxT"
      },
      "source": [
        "__3.__ Будет ли линейное пространство евклидовым, если за скалярное произведение принять:<br>\n",
        "а) произведение длин векторов<br>\n",
        "б) утроенное обычное скалярное произведение векторов\n",
        "\n",
        "\n",
        "\n",
        "a) нет, т.к. не выполняется определение скалярного произведения:$$(x,y)=|x|*|y|*cosα$$\n",
        "\n",
        "б) да, т.к. выполняется$$(\\lambda x, y)=\\lambda(x, y)$$"
      ]
    },
    {
      "cell_type": "markdown",
      "metadata": {
        "id": "yk2EkQDGEddO"
      },
      "source": [
        "__4.__ Какие из нижеперечисленных векторов образуют ортонормированный базис в линейном пространстве $$\\mathbb{R}^{3}$$\n",
        "а) $$(1,0,0),(0,0,1)$$\n",
        "б) $$(1/\\sqrt{2},-1/\\sqrt{2},0),(1/\\sqrt{2},1/\\sqrt{2},0), (0,0,1)$$\n",
        "в) $$(1/2, -1/2, 0), (0, 1/2, 1/2), (0,0,1)$$\n",
        "г) $$(1,0,0),(0,1,0),(0,0,1)$$ \n"
      ]
    },
    {
      "cell_type": "markdown",
      "metadata": {
        "id": "i2ShJ23mL-CG"
      },
      "source": [
        "a) нет, т.к. только два вектора"
      ]
    },
    {
      "cell_type": "code",
      "metadata": {
        "id": "nUdAYjblIt03"
      },
      "source": [
        "def result(a=np.array([]), b=np.array([]), c=np.array([])):\n",
        "  ab = np.dot(a, b)\n",
        "  ac = np.dot(a, c)\n",
        "  bc = np.dot(b, c)\n",
        "  if (ab == 0 and ac == 0) or (ab == 0 and bc == 0) or (ac == 0 and bc == 0):\n",
        "    return print('скалярное произведение равно нулю, вектора a, b и с образуют ортогональный базис')\n",
        "  else:\n",
        "    return print('вектора a, b и с не образуют ортогональный базис')"
      ],
      "execution_count": 13,
      "outputs": []
    },
    {
      "cell_type": "code",
      "metadata": {
        "colab": {
          "base_uri": "https://localhost:8080/"
        },
        "id": "-H-wB_QjJjjm",
        "outputId": "3f30878f-dcde-4488-b15d-33a1dd3e011a"
      },
      "source": [
        "# б)\n",
        "result([1/np.sqrt(2), -1/np.sqrt(2), 0], [1/np.sqrt(2), 1/np.sqrt(2), 0], [0, 0, 1])"
      ],
      "execution_count": 14,
      "outputs": [
        {
          "output_type": "stream",
          "name": "stdout",
          "text": [
            "скалярное произведение равно нулю, вектора a, b и с образуют ортогональный базис\n"
          ]
        }
      ]
    },
    {
      "cell_type": "code",
      "metadata": {
        "id": "1G-BJoe4KI-K",
        "colab": {
          "base_uri": "https://localhost:8080/"
        },
        "outputId": "75231122-c485-492a-90d2-0e90cc16e606"
      },
      "source": [
        "# в)\n",
        "result([1/2, -1/2, 0], [1/2, 1/2, 0], [0, 0, 1])"
      ],
      "execution_count": 15,
      "outputs": [
        {
          "output_type": "stream",
          "name": "stdout",
          "text": [
            "скалярное произведение равно нулю, вектора a, b и с образуют ортогональный базис\n"
          ]
        }
      ]
    },
    {
      "cell_type": "code",
      "metadata": {
        "id": "XdnGgtzYKdcl",
        "colab": {
          "base_uri": "https://localhost:8080/"
        },
        "outputId": "41d235f2-fb5b-444c-a0b5-f7250f6fdec7"
      },
      "source": [
        "# г)\n",
        "result([1, 0, 0], [0, 1, 0], [0, 0, 1])"
      ],
      "execution_count": 16,
      "outputs": [
        {
          "output_type": "stream",
          "name": "stdout",
          "text": [
            "скалярное произведение равно нулю, вектора a, b и с образуют ортогональный базис\n"
          ]
        }
      ]
    }
  ]
}