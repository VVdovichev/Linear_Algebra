{
  "nbformat": 4,
  "nbformat_minor": 0,
  "metadata": {
    "colab": {
      "name": "Lesson_1_2.ipynb",
      "provenance": [],
      "collapsed_sections": [],
      "authorship_tag": "ABX9TyNq6qTQpuuEpG5kBJC5PN77",
      "include_colab_link": true
    },
    "kernelspec": {
      "name": "python3",
      "display_name": "Python 3"
    },
    "language_info": {
      "name": "python"
    }
  },
  "cells": [
    {
      "cell_type": "markdown",
      "metadata": {
        "id": "view-in-github",
        "colab_type": "text"
      },
      "source": [
        "<a href=\"https://colab.research.google.com/github/VVdovichev/Linear_Algebra/blob/main/Lesson_1_2.ipynb\" target=\"_parent\"><img src=\"https://colab.research.google.com/assets/colab-badge.svg\" alt=\"Open In Colab\"/></a>"
      ]
    },
    {
      "cell_type": "code",
      "metadata": {
        "id": "Vz85UaCP-7Jh"
      },
      "source": [
        "import numpy as np\n",
        "from numpy.linalg import norm"
      ],
      "execution_count": 56,
      "outputs": []
    },
    {
      "cell_type": "markdown",
      "metadata": {
        "id": "vPQE0oyR-MxS"
      },
      "source": [
        "__1.__ Найти скалярное произведение векторов $$x, y \\in \\mathbb{R}$$\n",
        "а) $$x=(0,-3, 6),~y=(-4, 7, 9)$$\n",
        "б) $$x=(7, -4, 0, 1),~y=(-3, 1, 11, 2)$$"
      ]
    },
    {
      "cell_type": "code",
      "metadata": {
        "colab": {
          "base_uri": "https://localhost:8080/"
        },
        "id": "54mhafeC-6Ic",
        "outputId": "aac9f7b4-85f4-41db-fb44-d99ae9669596"
      },
      "source": [
        "# a)\n",
        "x = np.array([0, -3, 6])\n",
        "y = np.array([-4, 7, 9])\n",
        "print(f'Скалярное произведение векторов: {x @ y}')"
      ],
      "execution_count": 57,
      "outputs": [
        {
          "output_type": "stream",
          "name": "stdout",
          "text": [
            "Скалярное произведение векторов: 33\n"
          ]
        }
      ]
    },
    {
      "cell_type": "code",
      "metadata": {
        "colab": {
          "base_uri": "https://localhost:8080/"
        },
        "id": "BmzJB8GZ-HyM",
        "outputId": "46aa56ee-d388-4051-be42-84184858a2a2"
      },
      "source": [
        "# б)\n",
        "x = np.array([7, -4, 0, 1])\n",
        "y = np.array([-3, 1, 11, 2])\n",
        "print(f'Скалярное произведение векторов: {x @ y}')"
      ],
      "execution_count": 58,
      "outputs": [
        {
          "output_type": "stream",
          "name": "stdout",
          "text": [
            "Скалярное произведение векторов: -23\n"
          ]
        }
      ]
    },
    {
      "cell_type": "markdown",
      "metadata": {
        "id": "oyzuREQQASO-"
      },
      "source": [
        "__2.__ Найти нормы векторов (4, 2, 4) и (12, 3, 4) и угол между ними."
      ]
    },
    {
      "cell_type": "code",
      "metadata": {
        "colab": {
          "base_uri": "https://localhost:8080/"
        },
        "id": "aMYzP0RyAZt7",
        "outputId": "d088772d-7137-42db-a0a5-411f199c90ba"
      },
      "source": [
        "a = np.array([4, 2, 4])\n",
        "b = np.array([12, 3, 4])\n",
        "print(f'Норма вектора a: {norm(a)}')\n",
        "print(f'Норма вектора b: {norm(b)}')\n",
        "cos_phi = np.dot(a, b) / norm(a) / norm(b)\n",
        "print(f'Косинус угла между a и b: {cos_phi:.2f}')\n",
        "print(f'Угол между a и b: {np.arccos(cos_phi):.2f}')"
      ],
      "execution_count": 59,
      "outputs": [
        {
          "output_type": "stream",
          "name": "stdout",
          "text": [
            "Норма вектора a: 6.0\n",
            "Норма вектора b: 13.0\n",
            "Косинус угла между a и b: 0.90\n",
            "Угол между a и b: 0.46\n"
          ]
        }
      ]
    },
    {
      "cell_type": "markdown",
      "metadata": {
        "id": "FC8UqOldBBxT"
      },
      "source": [
        "__3.__ Будет ли линейное пространство евклидовым, если за скалярное произведение принять:<br>\n",
        "а) произведение длин векторов<br>\n",
        "б) утроенное обычное скалярное произведение векторов\n",
        "\n",
        "\n",
        "\n",
        "a) нет, т.к. не выполняется определение скалярного произведения:$$(x,y)=|x|*|y|*cosα$$\n",
        "\n",
        "б) да, т.к. выполняется$$(\\lambda x, y)=\\lambda(x, y)$$"
      ]
    },
    {
      "cell_type": "markdown",
      "metadata": {
        "id": "yk2EkQDGEddO"
      },
      "source": [
        "__4.__ Какие из нижеперечисленных векторов образуют ортонормированный базис в линейном пространстве $$\\mathbb{R}^{3}$$\n",
        "а) $$(1,0,0),(0,0,1)$$\n",
        "б) $$(1/\\sqrt{2},-1/\\sqrt{2},0),(1/\\sqrt{2},1/\\sqrt{2},0), (0,0,1)$$\n",
        "в) $$(1/2, -1/2, 0), (0, 1/2, 1/2), (0,0,1)$$\n",
        "г) $$(1,0,0),(0,1,0),(0,0,1)$$ \n"
      ]
    },
    {
      "cell_type": "markdown",
      "metadata": {
        "id": "i2ShJ23mL-CG"
      },
      "source": [
        "a) нет, т.к. только два вектора"
      ]
    },
    {
      "cell_type": "code",
      "metadata": {
        "colab": {
          "base_uri": "https://localhost:8080/"
        },
        "id": "-H-wB_QjJjjm",
        "outputId": "8317c3d7-3e18-46c2-a053-1efca3375a21"
      },
      "source": [
        "# б) ортонормированый базис\n",
        "a = np.array([1 / 2 ** 0.5, -1 / 2 ** 0.5, 0])\n",
        "b = np.array([1 / 2 ** 0.5, 1 / 2 ** 0.5, 0])\n",
        "c = np.array([0, 0, 1])\n",
        "print(f'{norm(a):1.0f}')\n",
        "print(f'{norm(b):1.0f}')\n",
        "print(f'{norm(c):1.0f}')\n",
        "print(a @ b)\n",
        "print(a @ c)\n",
        "print(b @ c)"
      ],
      "execution_count": 66,
      "outputs": [
        {
          "output_type": "stream",
          "name": "stdout",
          "text": [
            "1\n",
            "1\n",
            "1\n",
            "-2.2371143170757382e-17\n",
            "0.0\n",
            "0.0\n"
          ]
        }
      ]
    },
    {
      "cell_type": "code",
      "metadata": {
        "id": "1G-BJoe4KI-K",
        "colab": {
          "base_uri": "https://localhost:8080/"
        },
        "outputId": "7eb1666a-a2a5-4093-cfae-e53bf2d8f1c0"
      },
      "source": [
        "# в) не является ортонормированным базисом\n",
        "a = np.array([1 / 2, -1 / 2 , 0])\n",
        "b = np.array([0, 1 / 2 , 1 / 2])\n",
        "c = np.array([0, 0, 1])\n",
        "print(f'{norm(a):1.0f}')\n",
        "print(f'{norm(b):1.0f}')\n",
        "print(f'{norm(c):1.0f}')\n",
        "print(a @ b)\n",
        "print(a @ c)\n",
        "print(b @ c)"
      ],
      "execution_count": 68,
      "outputs": [
        {
          "output_type": "stream",
          "name": "stdout",
          "text": [
            "1\n",
            "1\n",
            "1\n",
            "-0.25\n",
            "0.0\n",
            "0.5\n"
          ]
        }
      ]
    },
    {
      "cell_type": "code",
      "metadata": {
        "id": "XdnGgtzYKdcl",
        "colab": {
          "base_uri": "https://localhost:8080/"
        },
        "outputId": "75b0b667-11e7-48d2-9589-2f3a42197eb3"
      },
      "source": [
        "# г) ортонормированный базис\n",
        "a = np.array([1, 0, 0])\n",
        "b = np.array([0, 1, 0])\n",
        "c = np.array([0, 0, 1])\n",
        "print(f'{norm(a):1.0f}')\n",
        "print(f'{norm(b):1.0f}')\n",
        "print(f'{norm(c):1.0f}')\n",
        "print(a @ b)\n",
        "print(a @ c)\n",
        "print(b @ c)"
      ],
      "execution_count": 69,
      "outputs": [
        {
          "output_type": "stream",
          "name": "stdout",
          "text": [
            "скалярное произведение равно нулю, вектора a, b и с образуют ортогональный базис\n",
            "1\n",
            "1\n",
            "1\n",
            "0\n",
            "0\n",
            "0\n"
          ]
        }
      ]
    }
  ]
}