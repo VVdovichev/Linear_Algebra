{
  "nbformat": 4,
  "nbformat_minor": 0,
  "metadata": {
    "colab": {
      "name": "Lesson_3.ipynb",
      "provenance": [],
      "collapsed_sections": [],
      "authorship_tag": "ABX9TyPorrnDpMycStA7Zyobjtnz",
      "include_colab_link": true
    },
    "kernelspec": {
      "name": "python3",
      "display_name": "Python 3"
    },
    "language_info": {
      "name": "python"
    }
  },
  "cells": [
    {
      "cell_type": "markdown",
      "metadata": {
        "id": "view-in-github",
        "colab_type": "text"
      },
      "source": [
        "<a href=\"https://colab.research.google.com/github/VVdovichev/Linear_Algebra/blob/main/Lesson_3.ipynb\" target=\"_parent\"><img src=\"https://colab.research.google.com/assets/colab-badge.svg\" alt=\"Open In Colab\"/></a>"
      ]
    },
    {
      "cell_type": "code",
      "metadata": {
        "id": "G7CRZp491WUk"
      },
      "source": [
        "import numpy as np"
      ],
      "execution_count": 4,
      "outputs": []
    },
    {
      "cell_type": "markdown",
      "metadata": {
        "id": "_rbFKZppuIC8"
      },
      "source": [
        "__1.__ Найти собственные векторы и собственные значения для линейного оператора, заданного матрицей\n",
        "\n",
        "$$A=\\begin{pmatrix}\n",
        "-1 & -6\\\\ \n",
        "2 & 6\n",
        "\\end{pmatrix}.$$"
      ]
    },
    {
      "cell_type": "code",
      "metadata": {
        "colab": {
          "base_uri": "https://localhost:8080/"
        },
        "id": "n6bYMbDNuOxw",
        "outputId": "a7609403-9c37-4aff-ff98-49d2764f3d3c"
      },
      "source": [
        "A = np.array([[-1,-6], [2, 6]])\n",
        "A"
      ],
      "execution_count": 5,
      "outputs": [
        {
          "output_type": "execute_result",
          "data": {
            "text/plain": [
              "array([[-1, -6],\n",
              "       [ 2,  6]])"
            ]
          },
          "metadata": {},
          "execution_count": 5
        }
      ]
    },
    {
      "cell_type": "code",
      "metadata": {
        "colab": {
          "base_uri": "https://localhost:8080/"
        },
        "id": "0lo-RIunuZEL",
        "outputId": "ee5b6acf-cab4-408f-c0e8-8ee290b0106a"
      },
      "source": [
        "w, v = np.linalg.eig(A)\n",
        "\n",
        "print(f'Матрица A:\\n{A}')\n",
        "print(f'Собственные значения:\\n{w}')\n",
        "print(f'Собственные векторы:\\n{v}')"
      ],
      "execution_count": 6,
      "outputs": [
        {
          "output_type": "stream",
          "name": "stdout",
          "text": [
            "Матрица A:\n",
            "[[-1 -6]\n",
            " [ 2  6]]\n",
            "Собственные значения:\n",
            "[2. 3.]\n",
            "Собственные векторы:\n",
            "[[-0.89442719  0.83205029]\n",
            " [ 0.4472136  -0.5547002 ]]\n"
          ]
        }
      ]
    },
    {
      "cell_type": "markdown",
      "metadata": {
        "id": "k3hO7tLDunHw"
      },
      "source": [
        "__2.__ Дан оператор поворота на 180 градусов, задаваемый матрицей \n",
        "\n",
        "$$A=\\begin{pmatrix}\n",
        "-1 & 0\\\\ \n",
        "0 & -1\n",
        "\\end{pmatrix}.$$\n",
        "\n",
        "Показать, что __любой__ вектор является для него собственным."
      ]
    },
    {
      "cell_type": "markdown",
      "metadata": {
        "id": "AL0WaFqEvVA7"
      },
      "source": [
        "$$Ae_{1}=-1\\cdot e_{1}+0\\cdot e_{2}=-e_{1}$$\n",
        "$$Ae_{2}=0\\cdot e_{1}-1\\cdot e_{2}=-e_{2}$$\n",
        "\n",
        "\n",
        "Теперь найдем собственные значения линейного оператора, составив и решив характеристическое уравнение:\n",
        "\n",
        "$$\\begin{vmatrix}\n",
        "-1-\\lambda & 1\\\\ \n",
        "0 & -1-\\lambda\n",
        "\\end{vmatrix} = 0,$$\n",
        "\n",
        "$$(-1-\\lambda)(-1-\\lambda)-0\\cdot0=0,$$\n",
        "\n",
        "$$(1+\\lambda)^{2}=0,$$\n",
        "\n",
        "$$\\lambda=-1.$$\n",
        "Теперь найдем собственные векторы вида $$\\begin{pmatrix}\n",
        "x_{1}\\\\ \n",
        "x_{2}\n",
        "\\end{pmatrix}$$ подставив полученное собственное значение в выражение $$\\textbf{A}x=\\lambda x$$\n",
        "\n",
        "$$\\begin{pmatrix}\n",
        "-1 & 0\\\\ \n",
        "0 & -1\n",
        "\\end{pmatrix}\n",
        "\\begin{pmatrix}\n",
        "x_{1}\\\\ \n",
        "x_{2}\n",
        "\\end{pmatrix}=\n",
        "\\lambda\n",
        "\\begin{pmatrix}\n",
        "x_{1}\\\\ \n",
        "x_{2}\n",
        "\\end{pmatrix}.\n",
        "$$\n"
      ]
    },
    {
      "cell_type": "markdown",
      "metadata": {
        "id": "KVsqweIGy3Xk"
      },
      "source": [
        "Получим\n",
        "\n",
        "$$\\begin{cases}\n",
        "-x_{1}= -x_{1}, \\\\\n",
        "-x_{2}= -x_{2}.\n",
        "\\end{cases}$$ \n",
        "\n",
        "$$\\begin{cases}\n",
        "0=0, \\\\\n",
        "0=0.\n",
        "\\end{cases}$$\n",
        "следовательно любое\n",
        "$$x_{1},x_{2}$$\n",
        "удовлетворяют условиям системы уравнений."
      ]
    },
    {
      "cell_type": "markdown",
      "metadata": {
        "id": "ENcWOBFBz4Ps"
      },
      "source": [
        "__3.__ Пусть линейный оператор задан матрицей\n",
        "\n",
        "$$A=\\begin{pmatrix}\n",
        "1 & 1\\\\ \n",
        "-1 & 3\n",
        "\\end{pmatrix}.$$\n",
        "\n",
        "Установить, является ли вектор $$x=(1,1)$$ собственным вектором этого линейного оператора.\n"
      ]
    },
    {
      "cell_type": "code",
      "metadata": {
        "colab": {
          "base_uri": "https://localhost:8080/"
        },
        "id": "J6kv_mn-vUmB",
        "outputId": "ee825a85-f09c-4b44-8971-9a1163159c4f"
      },
      "source": [
        "a = np.array([[1, 1], [-1, 3]])\n",
        "w, v = np.linalg.eig(a)\n",
        "print(f'Собственные числа: {w}')"
      ],
      "execution_count": 7,
      "outputs": [
        {
          "output_type": "stream",
          "name": "stdout",
          "text": [
            "Собственные числа: [2.00000002 1.99999998]\n"
          ]
        }
      ]
    },
    {
      "cell_type": "markdown",
      "metadata": {
        "id": "XOHJ0S2F0iOj"
      },
      "source": [
        "$$\\begin{cases}\n",
        "x_{1}+x_{2}= 2\\cdot x_{1}, \\\\\n",
        "-x_{1}+3\\cdot x_{2}= 2\\cdot x_{2}.\n",
        "\\end{cases}$$ \n",
        "\n",
        "$$\\begin{cases}\n",
        "x_{1}=x_{2}, \\\\\n",
        "x_{1}=x_{2}.\n",
        "\\end{cases}$$ "
      ]
    },
    {
      "cell_type": "markdown",
      "metadata": {
        "id": "TYMhBtrZ1m-S"
      },
      "source": [
        "следовательно любое\n",
        "$$x_{1}=x_{2}$$\n",
        "удовлетворяют условиям системы уравнений и значит вектор $$x=(1,1)$$ является собственным."
      ]
    },
    {
      "cell_type": "markdown",
      "metadata": {
        "id": "5TwicCsX2BLL"
      },
      "source": [
        "**4.** Пусть линейный оператор задан матрицей\n",
        "\n",
        "$$A=\\begin{pmatrix} 0 & 3 & 0\\\\ 3 & 0 & 0\\\\ 0 & 0 & 3 \\end{pmatrix}.$$\n",
        "\n",
        "Установить, является ли вектор $$x=(3, -3, -4)$$ собственным вектором этого линейного оператора."
      ]
    },
    {
      "cell_type": "markdown",
      "metadata": {
        "id": "Kb5aRyv92Tqt"
      },
      "source": [
        "Предположим, что вектор $$x$$ является собственным вектором заданного линейного оператора, тогда должно существовать некоторое вещественное число $$\\lambda$$ при котором"
      ]
    },
    {
      "cell_type": "markdown",
      "metadata": {
        "id": "SP1mY1n32leH"
      },
      "source": [
        "$$\\begin{pmatrix}\n",
        "0 & 3 & 0\\\\ \n",
        "3 & 0 & 0\\\\\n",
        "0 & 0 & 3\n",
        "\\end{pmatrix}\n",
        "\\begin{pmatrix}\n",
        "3\\\\ \n",
        "-3\\\\\n",
        "-4\n",
        "\\end{pmatrix}=\n",
        "\\lambda\n",
        "\\begin{pmatrix}\n",
        "3\\\\ \n",
        "-3\\\\\n",
        "-4\n",
        "\\end{pmatrix}.\n",
        "$$\n",
        "Из этого будет следовать, что\n",
        "$$\\begin{cases}\n",
        "\\lambda=-3\\\\\n",
        "\\lambda=-3\\\\\n",
        "\\lambda=3\n",
        "\\end{cases}$$ \n",
        "\n",
        "система решения не имеет, значит вектор $$x=(3, -3, -4)$$ не является собственным."
      ]
    }
  ]
}