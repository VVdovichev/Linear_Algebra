{
  "nbformat": 4,
  "nbformat_minor": 0,
  "metadata": {
    "colab": {
      "name": "Lesson_2_1.ipynb",
      "provenance": [],
      "collapsed_sections": [],
      "authorship_tag": "ABX9TyNt/XG3H6M93bG1R623LkT9",
      "include_colab_link": true
    },
    "kernelspec": {
      "name": "python3",
      "display_name": "Python 3"
    },
    "language_info": {
      "name": "python"
    }
  },
  "cells": [
    {
      "cell_type": "markdown",
      "metadata": {
        "id": "view-in-github",
        "colab_type": "text"
      },
      "source": [
        "<a href=\"https://colab.research.google.com/github/VVdovichev/Linear_Algebra/blob/main/Lesson_2_1.ipynb\" target=\"_parent\"><img src=\"https://colab.research.google.com/assets/colab-badge.svg\" alt=\"Open In Colab\"/></a>"
      ]
    },
    {
      "cell_type": "code",
      "metadata": {
        "id": "9Z6Te4YQzGUT"
      },
      "source": [
        "import numpy as np\n",
        "import random"
      ],
      "execution_count": 53,
      "outputs": []
    },
    {
      "cell_type": "markdown",
      "metadata": {
        "id": "rR_YrhLUzSSs"
      },
      "source": [
        "__1.__ Установить, какие произведения матриц AB и BA определены, и найти размерности полученных матриц:\n",
        "\n",
        "   а) A — матрица 4 * 2, $B$ — матрица 4 * 2;\n",
        "    \n",
        "   б) A — матрица 2 * 5, B — матрица 5 * 3;\n",
        "    \n",
        "   в) A — матрица 8 * 3, B — матрица 3 * 8;\n",
        "    \n",
        "   г) A — квадратная матрица 4 * 4, B — квадратная матрица 4 * 4."
      ]
    },
    {
      "cell_type": "markdown",
      "metadata": {
        "id": "WkqI3rgvzpUV"
      },
      "source": [
        "a) произведение матриц неопределено\n",
        "\n",
        "б) произведение матриц определено, итоговая матрица имеет размерность 2×3\n",
        "\n",
        "в) произведение матриц определено, итоговая матрица имеет размерность 8×8\n",
        "\n",
        "г) произведение матриц определено, итоговая матрица имеет размерность 4×4"
      ]
    },
    {
      "cell_type": "markdown",
      "metadata": {
        "id": "EgmcZr5EzzBt"
      },
      "source": [
        "__2.__ Найти сумму и произведение матриц $$A=\\begin{pmatrix}\n",
        "1 & -2\\\\ \n",
        "3 & 0\n",
        "\\end{pmatrix}$$ и $$B=\\begin{pmatrix}\n",
        "4 & -1\\\\ \n",
        "0 & 5\n",
        "\\end{pmatrix}.$$"
      ]
    },
    {
      "cell_type": "code",
      "metadata": {
        "colab": {
          "base_uri": "https://localhost:8080/"
        },
        "id": "NEUnhgWv0tPN",
        "outputId": "3ac524d5-dee4-4b7e-fce8-8fbd7f63fbd4"
      },
      "source": [
        "A = np.array([[1, -2] , [3, 0]])\n",
        "B = np.array([[4, -1], [0, 5]])\n",
        "print(f'сумма матриц:\\n{A + B}')\n",
        "print(f'произведение матриц:\\n{np.dot(A, B)}')"
      ],
      "execution_count": 54,
      "outputs": [
        {
          "output_type": "stream",
          "name": "stdout",
          "text": [
            "сумма матриц:\n",
            "[[ 5 -3]\n",
            " [ 3  5]]\n",
            "произведение матриц:\n",
            "[[  4 -11]\n",
            " [ 12  -3]]\n"
          ]
        }
      ]
    },
    {
      "cell_type": "markdown",
      "metadata": {
        "id": "LHx3XKgZ0slu"
      },
      "source": [
        "__3.__ Из закономерностей сложения и умножения матриц на число можно сделать вывод, что матрицы одного размера образуют линейное пространство. Вычислить линейную комбинацию 3A-2B+4C для матриц $$A=\\begin{pmatrix}\n",
        "1 & 7\\\\ \n",
        "3 & -6\n",
        "\\end{pmatrix}$$, $$B=\\begin{pmatrix}\n",
        "0 & 5\\\\ \n",
        "2 & -1\n",
        "\\end{pmatrix}$$, $$C=\\begin{pmatrix}\n",
        "2 & -4\\\\ \n",
        "1 & 1\n",
        "\\end{pmatrix}.$$"
      ]
    },
    {
      "cell_type": "code",
      "metadata": {
        "colab": {
          "base_uri": "https://localhost:8080/"
        },
        "id": "0SV2jDQB1JLp",
        "outputId": "250e78d0-61f0-4c1d-d0d9-c8d63d565f3f"
      },
      "source": [
        "A = np.array([[1, 7] , [3, -6]])\n",
        "B = np.array([[0, 5], [2, -1]])\n",
        "C = np.array([[2, -4], [1, 1]])\n",
        "A_B_C = 3 * A - 2 * B + 4 * C\n",
        "A_B_C"
      ],
      "execution_count": 55,
      "outputs": [
        {
          "output_type": "execute_result",
          "data": {
            "text/plain": [
              "array([[ 11,  -5],\n",
              "       [  9, -12]])"
            ]
          },
          "metadata": {},
          "execution_count": 55
        }
      ]
    },
    {
      "cell_type": "markdown",
      "metadata": {
        "id": "nth8Xpkj1VAC"
      },
      "source": [
        "__4.__ Дана матрица $$A=\\begin{pmatrix}\n",
        "4 & 1\\\\ \n",
        "5 & -2\\\\ \n",
        "2 & 3\n",
        "\\end{pmatrix}$$.\n",
        "Вычислить $$AA^{T}$$ и $$A^{T}A$$."
      ]
    },
    {
      "cell_type": "code",
      "metadata": {
        "colab": {
          "base_uri": "https://localhost:8080/"
        },
        "id": "z9E1SMiK1SBA",
        "outputId": "a131cec3-dfeb-4054-972f-a700df85a429"
      },
      "source": [
        "A = np.array([[4, 1] , [5, -2], [2, 3]])\n",
        "print(np.dot(A, A.T))\n",
        "print(np.dot(A.T, A))"
      ],
      "execution_count": 56,
      "outputs": [
        {
          "output_type": "stream",
          "name": "stdout",
          "text": [
            "[[17 18 11]\n",
            " [18 29  4]\n",
            " [11  4 13]]\n",
            "[[45  0]\n",
            " [ 0 14]]\n"
          ]
        }
      ]
    },
    {
      "cell_type": "markdown",
      "metadata": {
        "id": "4rofWyvU47vh"
      },
      "source": [
        "__5*.__ Написать на Python функцию для перемножения двух произвольных матриц, не используя NumPy."
      ]
    },
    {
      "cell_type": "code",
      "metadata": {
        "colab": {
          "base_uri": "https://localhost:8080/"
        },
        "id": "7Rt67Wk63eza",
        "outputId": "0bae4984-4884-43bc-ac3d-d6d5c21fe29f"
      },
      "source": [
        "def matrixmult(m1,m2):\n",
        "    s=0     #сумма\n",
        "    t=[]    #временная матрица\n",
        "    m3=[] # конечная матрица\n",
        "    if len(m2)!=len(m1[0]):\n",
        "        print(\"Матрицы не могут быть перемножены\")        \n",
        "    else:\n",
        "        r1=len(m1) #количество строк в первой матрице\n",
        "        c1=len(m1[0]) #Количество столбцов в 1   \n",
        "        r2=c1           #и строк во 2ой матрице\n",
        "        c2=len(m2[0])  # количество столбцов во 2ой матрице\n",
        "        for z in range(0,r1):\n",
        "            for j in range(0,c2):\n",
        "                for i in range(0,c1):\n",
        "                   s=s+m1[z][i]*m2[i][j]\n",
        "                t.append(s)\n",
        "                s=0\n",
        "            m3.append(t)\n",
        "            t=[]           \n",
        "    return np.array(m3)\n",
        " \n",
        "def creatematrix(r,c):\n",
        "    t=[]\n",
        "    m=[]\n",
        "    for i in range(0,r):\n",
        "        for j in range(0,c):\n",
        "            t.append(random.randint(1,10))\n",
        "        m.append(t)\n",
        "        t=[]\n",
        "    return np.array(m)\n",
        " \n",
        "c1=1\n",
        "r2=2\n",
        "while c1!=r2:\n",
        "    print(\"Кол-во столбцов в 1 матрице должно быть = кол-ву строк 2 матрицы\")\n",
        "    r1=int(input('Введите кол-во строк для 1 матрицы >'))\n",
        "    c1=int(input('Введите кол-во столбцов для 1 матрицы>'))\n",
        "    r2=int(input('Введите кол-во строк для второй матрицы >'))\n",
        "    c2=int(input('Введите кол-во столбцов для 2 матрицы >'))\n",
        "    \n",
        " \n",
        "m1=creatematrix(r1,c1)\n",
        "m2=creatematrix(r2,c2)\n",
        "    \n",
        " \n",
        "print(\"1я матрица \\n\", m1)\n",
        "print('2я матрица \\n', m2)\n",
        " \n",
        "m3=matrixmult(m1,m2)\n",
        "print(\"произведение матриц \\n\", m3)"
      ],
      "execution_count": 57,
      "outputs": [
        {
          "output_type": "stream",
          "name": "stdout",
          "text": [
            "Кол-во столбцов в 1 матрице должно быть = кол-ву строк 2 матрицы\n",
            "Введите кол-во строк для 1 матрицы >4\n",
            "Введите кол-во столбцов для 1 матрицы>3\n",
            "Введите кол-во строк для второй матрицы >3\n",
            "Введите кол-во столбцов для 2 матрицы >5\n",
            "1я матрица \n",
            " [[ 5  9  9]\n",
            " [ 1  7  6]\n",
            " [ 3  4  7]\n",
            " [ 4 10  1]]\n",
            "2я матрица \n",
            " [[ 7 10  3  3  7]\n",
            " [10  3  4  1  3]\n",
            " [ 2  1  4  2  5]]\n",
            "произведение матриц \n",
            " [[143  86  87  42 107]\n",
            " [ 89  37  55  22  58]\n",
            " [ 75  49  53  27  68]\n",
            " [130  71  56  24  63]]\n"
          ]
        }
      ]
    }
  ]
}