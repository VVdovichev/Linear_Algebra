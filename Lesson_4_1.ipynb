{
  "nbformat": 4,
  "nbformat_minor": 0,
  "metadata": {
    "colab": {
      "name": "Lesson_4_1.ipynb",
      "provenance": [],
      "collapsed_sections": [],
      "authorship_tag": "ABX9TyNTAZcLEa5/twrp2RV/6CUC",
      "include_colab_link": true
    },
    "kernelspec": {
      "name": "python3",
      "display_name": "Python 3"
    },
    "language_info": {
      "name": "python"
    }
  },
  "cells": [
    {
      "cell_type": "markdown",
      "metadata": {
        "id": "view-in-github",
        "colab_type": "text"
      },
      "source": [
        "<a href=\"https://colab.research.google.com/github/VVdovichev/Linear_Algebra/blob/main/Lesson_4_1.ipynb\" target=\"_parent\"><img src=\"https://colab.research.google.com/assets/colab-badge.svg\" alt=\"Open In Colab\"/></a>"
      ]
    },
    {
      "cell_type": "code",
      "metadata": {
        "id": "QR-fOF8r9gB4"
      },
      "source": [
        "import numpy as np"
      ],
      "execution_count": 21,
      "outputs": []
    },
    {
      "cell_type": "markdown",
      "metadata": {
        "id": "liLZw11iXTRJ"
      },
      "source": [
        "__1.__ Решить систему уравнений методом Гаусса:\n",
        "\n",
        "$$\\begin{cases}\n",
        "x_{1}+x_{2}-x_{3}-2x_{4}=0, \\\\\n",
        "2x_{1}+x_{2}-x_{3}+x_{4}=-2, \\\\\n",
        "x_{1}+x_{2}-3x_{3}+x_{4}=4.\n",
        "\\end{cases}$$"
      ]
    },
    {
      "cell_type": "markdown",
      "metadata": {
        "id": "2_GpeKSdXXs7"
      },
      "source": [
        "Расширенная матрица:\n",
        "$$\\begin{pmatrix}\n",
        "\\left.\\begin{matrix}\n",
        "1 & 1 & -1 & -2\\\\ \n",
        "2 & 1 & -1 & 1\\\\ \n",
        "1 & 1 & -3 & 1\n",
        "\\end{matrix}\\right|\n",
        "\\begin{matrix}\n",
        "0\\\\ \n",
        "-2\\\\\n",
        "4\n",
        "\\end{matrix}\n",
        "\\end{pmatrix}$$\n",
        "\n",
        "\n",
        "Умножим первую строку на 2, и вычтем её из второй строки:\n",
        "\n",
        "$$\\begin{pmatrix}\n",
        "\\left.\\begin{matrix}\n",
        "1 & 1 & -1 & -2\\\\ \n",
        "0 & -1 & 1 & 5\\\\ \n",
        "1 & 1 & -3 & 1\n",
        "\\end{matrix}\\right|\n",
        "\\begin{matrix}\n",
        "0\\\\ \n",
        "-2\\\\\n",
        "4\n",
        "\\end{matrix}\n",
        "\\end{pmatrix}$$\n",
        "\n",
        "Вычтем из третьей строки первую:\n",
        "\n",
        "$$\\begin{pmatrix}\n",
        "\\left.\\begin{matrix}\n",
        "1 & 1 & -1 & -2\\\\ \n",
        "0 & -1 & 1 & 5\\\\ \n",
        "0 & 0 & -2 & 3\n",
        "\\end{matrix}\\right|\n",
        "\\begin{matrix}\n",
        "0\\\\ \n",
        "-2\\\\\n",
        "4\n",
        "\\end{matrix}\n",
        "\\end{pmatrix}$$\n",
        "\n",
        "Отсюда следует:\n",
        "$$x_{4}=c$$\n",
        "$$x_{3}=1.5·c-2$$\n",
        "$$x_{2}=6.5·c$$\n",
        "$$x_{1}= -3·c-2$$\n",
        "Сисстема имеет множество решений."
      ]
    },
    {
      "cell_type": "markdown",
      "metadata": {
        "id": "N4crz5ldgT0j"
      },
      "source": [
        "__2.__ Проверить на совместность и выяснить, сколько решений будет иметь система линейных уравнений:\n",
        "\n",
        "   а) $\\begin{cases}\n",
        "3x_{1}-x_{2}+x_{3}=4, \\\\\n",
        "2x_{1}-5x_{2}-3x_{3}=-17, \\\\\n",
        "x_{1}+x_{2}-x_{3}=0;\n",
        "\\end{cases}$\n",
        "    \n",
        "   б) $\\begin{cases}\n",
        "2x_{1}-4x_{2}+6x_{3}=1, \\\\\n",
        "x_{1}-2x_{2}+3x_{3}=-2, \\\\\n",
        "3x_{1}-6x_{2}+9x_{3}=5;\n",
        "\\end{cases}$\n",
        "    \n",
        "   в) $\\begin{cases}\n",
        "x_{1}+2x_{2}+5x_{3}=4, \\\\\n",
        "3x_{1}+x_{2}-8x_{3}=-2. \n",
        "\\end{cases}$\n"
      ]
    },
    {
      "cell_type": "code",
      "metadata": {
        "id": "r8Bd9VTbVWzL",
        "colab": {
          "base_uri": "https://localhost:8080/"
        },
        "outputId": "e8c6e012-412b-4e95-d9f1-a37db4e193af"
      },
      "source": [
        "# a)\n",
        "\n",
        "\n",
        "A = np.array([[3, -1, 1], [2, -5, -3], [1, 1, -1]])\n",
        "A_extended = np.array([[3, -1, 1, 4], [2, -5, -3, -17], [1, 1, -1, 0]])\n",
        "print(f'Ранг матрицы А: {np.linalg.matrix_rank(A)}')\n",
        "print(f'Ранг матрицы А расширенной: {np.linalg.matrix_rank(A_extended)}')"
      ],
      "execution_count": 22,
      "outputs": [
        {
          "output_type": "stream",
          "name": "stdout",
          "text": [
            "Ранг матрицы А: 3\n",
            "Ранг матрицы А расширенной: 3\n"
          ]
        }
      ]
    },
    {
      "cell_type": "markdown",
      "metadata": {
        "id": "MEckUapH_C7G"
      },
      "source": [
        "Так как ранги матриц равны и количество неизвестных совпадает с количеством уравнений, то система совместна и имеет единственное решение."
      ]
    },
    {
      "cell_type": "code",
      "metadata": {
        "colab": {
          "base_uri": "https://localhost:8080/"
        },
        "id": "hBu17Zlp_ahh",
        "outputId": "3063b891-3751-4b97-e714-83a97c309227"
      },
      "source": [
        "# б)\n",
        "\n",
        "\n",
        "B = np.array([[2, -4, 6], [1, -2, 3], [3, -6, 9]])\n",
        "B_extended = np.array([[2, -4, 6, 1], [1, -2, 3, -2], [3, -6, 9, 5]])\n",
        "print(f'Ранг матрицы B: {np.linalg.matrix_rank(B)}')\n",
        "print(f'Ранг матрицы B расширенной: {np.linalg.matrix_rank(B_extended)}')"
      ],
      "execution_count": 23,
      "outputs": [
        {
          "output_type": "stream",
          "name": "stdout",
          "text": [
            "Ранг матрицы B: 1\n",
            "Ранг матрицы B расширенной: 2\n"
          ]
        }
      ]
    },
    {
      "cell_type": "markdown",
      "metadata": {
        "id": "VcT3dDHeA_Z7"
      },
      "source": [
        "Ранги матриц не равны, система несовместна."
      ]
    },
    {
      "cell_type": "code",
      "metadata": {
        "colab": {
          "base_uri": "https://localhost:8080/"
        },
        "id": "-Y4Q1L9kAflK",
        "outputId": "72c5cfe3-8643-442c-f88f-997d99d53e8f"
      },
      "source": [
        "# в)\n",
        "\n",
        "\n",
        "C = np.array([[1, 2, 5], [3, 1, -8]])\n",
        "C_extended = np.array([[1, 2, 5, 4], [3, 1, -8, -2]])\n",
        "print(f'Ранг матрицы C: {np.linalg.matrix_rank(C)}')\n",
        "print(f'Ранг матрицы C расширенной: {np.linalg.matrix_rank(C_extended)}')"
      ],
      "execution_count": 24,
      "outputs": [
        {
          "output_type": "stream",
          "name": "stdout",
          "text": [
            "Ранг матрицы C: 2\n",
            "Ранг матрицы C расширенной: 2\n"
          ]
        }
      ]
    },
    {
      "cell_type": "markdown",
      "metadata": {
        "id": "1ABaoF_HDJvt"
      },
      "source": [
        "Ранги матриц равны, а количество неизвестных больше количества уравнений, то система совместна и имеет множество решений."
      ]
    },
    {
      "cell_type": "markdown",
      "metadata": {
        "id": "ZB-JGddrDmYq"
      },
      "source": [
        "__3.__ Проверить на совместность и выяснить, сколько решений будет иметь система линейных уравнений, заданная расширенной матрицей\n",
        "\n",
        "$$\\tilde{A}=\\begin{pmatrix}\n",
        "\\left.\\begin{matrix}\n",
        "1 & 3 & -2 & 4\\\\ \n",
        "0 & 5 & 0 & 1\\\\ \n",
        "0 & 0 & 3 & 0\\\\ \n",
        "0 & 0 & 0 & 2\n",
        "\\end{matrix}\\right|\n",
        "\\begin{matrix}\n",
        "3\\\\ \n",
        "2\\\\\n",
        "4\\\\\n",
        "1\n",
        "\\end{matrix}\n",
        "\\end{pmatrix}$$"
      ]
    },
    {
      "cell_type": "code",
      "metadata": {
        "colab": {
          "base_uri": "https://localhost:8080/"
        },
        "id": "bP_3q07wDe3K",
        "outputId": "892a7c58-3873-4d09-837e-158e46471f2f"
      },
      "source": [
        "A = np.array([[1, 3, -2, 4], [0, 5, 0, 1], [0, 0, 3, 0], [0, 0, 0, 2]])\n",
        "A_extended = ([[1, 3, -2, 4, 3], [0, 5, 0, 1, 2], [0, 0, 3, 0, 4], [0, 0, 0, 2, 1]])\n",
        "print(f'Ранг матрицы А: {np.linalg.matrix_rank(A)}')\n",
        "print(f'Ранг матрицы А расширенной: {np.linalg.matrix_rank(A_extended)}')"
      ],
      "execution_count": 27,
      "outputs": [
        {
          "output_type": "stream",
          "name": "stdout",
          "text": [
            "Ранг матрицы А: 4\n",
            "Ранг матрицы А расширенной: 4\n"
          ]
        }
      ]
    },
    {
      "cell_type": "markdown",
      "metadata": {
        "id": "t62807o0E0vF"
      },
      "source": [
        "Так как ранги матриц равны и количество неизвестных совпадает с количеством уравнений, то система совместна и имеет единственное решение."
      ]
    },
    {
      "cell_type": "markdown",
      "metadata": {
        "id": "JtGl4tIzFEV4"
      },
      "source": [
        "__4.__ Дана система линейных уравнений, заданная расширенной матрицей\n",
        "\n",
        "$$\\tilde{A}=\\begin{pmatrix}\n",
        "\\left.\\begin{matrix}\n",
        "1 & 2 & 3\\\\ \n",
        "4 & 5 & 6\\\\ \n",
        "7 & 8 & 9\n",
        "\\end{matrix}\\right|\n",
        "\\begin{matrix}\n",
        "a\\\\ \n",
        "b\\\\\n",
        "c\n",
        "\\end{matrix}\n",
        "\\end{pmatrix}.$$\n",
        "\n",
        "Найти соотношение между параметрами $$a$$ $$b$$ $$c$$ при которых система является несовместной."
      ]
    },
    {
      "cell_type": "markdown",
      "metadata": {
        "id": "CIZDbrISGooi"
      },
      "source": [
        "Приведём матрицу к треугольной форме.\n",
        "Из 2й строки вычтем 1ю строку * 2,\n",
        "из 3й строки вычтем 1ю строку * 3.\n",
        "$$\\tilde{A}=\\begin{pmatrix}\n",
        "\\left.\\begin{matrix}\n",
        "1 & 2 & 3\\\\ \n",
        "2 & 1 & 0\\\\ \n",
        "4 & 2 & 0\n",
        "\\end{matrix}\\right|\n",
        "\\begin{matrix}\n",
        "a\\\\ \n",
        "b-2\\cdot a\\\\\n",
        "c-3·a\n",
        "\\end{matrix}\n",
        "\\end{pmatrix}$$\n",
        "\n",
        "Из 3й строки вычтем 2ю * 2\n",
        "$$\\tilde{A}=\\begin{pmatrix}\n",
        "\\left.\\begin{matrix}\n",
        "1 & 2 & 3\\\\ \n",
        "2 & 1 & 0\\\\ \n",
        "0 & 0 & 0\n",
        "\\end{matrix}\\right|\n",
        "\\begin{matrix}\n",
        "a\\\\ \n",
        "b-2\\cdot a\\\\\n",
        "c+a-2\\cdot b\n",
        "\\end{matrix}\n",
        "\\end{pmatrix}$$\n",
        "Если $$(c+a-2·b)!=0$$,  то система является несовместной. \n",
        "В противном случае одна из неизвестных является свободной переменной и, следовательно, система имеет бесконечное множество решений."
      ]
    }
  ]
}