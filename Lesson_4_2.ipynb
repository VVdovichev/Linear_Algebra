{
  "nbformat": 4,
  "nbformat_minor": 0,
  "metadata": {
    "colab": {
      "name": "Lesson_4_2.ipynb",
      "provenance": [],
      "collapsed_sections": [],
      "authorship_tag": "ABX9TyM0zsY6Bi7IS2K2NOFIivqz",
      "include_colab_link": true
    },
    "kernelspec": {
      "name": "python3",
      "display_name": "Python 3"
    },
    "language_info": {
      "name": "python"
    }
  },
  "cells": [
    {
      "cell_type": "markdown",
      "metadata": {
        "id": "view-in-github",
        "colab_type": "text"
      },
      "source": [
        "<a href=\"https://colab.research.google.com/github/VVdovichev/Linear_Algebra/blob/main/Lesson_4_2.ipynb\" target=\"_parent\"><img src=\"https://colab.research.google.com/assets/colab-badge.svg\" alt=\"Open In Colab\"/></a>"
      ]
    },
    {
      "cell_type": "code",
      "metadata": {
        "id": "vT3ve_BMW1cY"
      },
      "source": [
        "import numpy as np"
      ],
      "execution_count": 41,
      "outputs": []
    },
    {
      "cell_type": "markdown",
      "metadata": {
        "id": "jR5UA2DRVg8-"
      },
      "source": [
        "__1.__ Решить систему уравнений методом Крамера:\n",
        "\n",
        "   а) $$\\begin{cases}\n",
        "x_{1}-2x_{2}=1 \\\\\n",
        "3x_{1}-4x_{2}=7\n",
        "\\end{cases}$$\n",
        "    \n",
        "   б) $$\\begin{cases}\n",
        "2x_{1}-x_{2}+5x_{3}=10 \\\\\n",
        "x_{1}+x_{2}-3x_{3}=-2 \\\\\n",
        "2x_{1}+4x_{2}+x_{3}=1\n",
        "\\end{cases}$$\n"
      ]
    },
    {
      "cell_type": "code",
      "metadata": {
        "colab": {
          "base_uri": "https://localhost:8080/"
        },
        "id": "0Ud0AY6DMA76",
        "outputId": "982e3c3a-cc71-46db-c948-31a750194d9c"
      },
      "source": [
        "# a)\n",
        "\n",
        "\n",
        "A = np.array([[1, -2], [3, -4]])\n",
        "A1 = np.array([[1, -2], [7, -4]])\n",
        "A2 = np.array([[1, 1], [3, 7]])\n",
        "det_A = np.linalg.det(A)\n",
        "det_A1 = np.linalg.det(A1)\n",
        "det_A2 = np.linalg.det(A2)\n",
        "x1 = det_A1 / det_A\n",
        "x2 = det_A2 / det_A\n",
        "print(f'x1 = {x1}')\n",
        "print(f'x2 = {x2}')"
      ],
      "execution_count": 43,
      "outputs": [
        {
          "output_type": "stream",
          "name": "stdout",
          "text": [
            "x1 = 4.999999999999998\n",
            "x2 = 1.9999999999999991\n"
          ]
        }
      ]
    },
    {
      "cell_type": "code",
      "metadata": {
        "colab": {
          "base_uri": "https://localhost:8080/"
        },
        "id": "aBHX5r8zW8Dr",
        "outputId": "8bf74204-d9a2-44a8-97b7-8be268163ffe"
      },
      "source": [
        "# б)\n",
        "\n",
        "\n",
        "B = np.array([[2, -1, 5], [1, 1, -3], [2, 4, 1]])\n",
        "B1 = np.array([[10, -1, 5], [-2, 1, -3], [1, 4, 1]])\n",
        "B2 = np.array([[2, 10, 5], [1, -2, -3], [2, 1, 1]])\n",
        "B3 = np.array([[2, -1, 10], [1, 1, -2], [2, 4, 1]])\n",
        "det_B = np.linalg.det(B)\n",
        "det_B1 = np.linalg.det(B1)\n",
        "det_B2 = np.linalg.det(B2)\n",
        "det_B3 = np.linalg.det(B3)\n",
        "x1 = det_B1 / det_B\n",
        "x2 = det_B2 / det_B\n",
        "x3 = det_B3 / det_B\n",
        "print(f'x1 = {x1}')\n",
        "print(f'x2 = {x2}')\n",
        "print(f'x3 = {x3}')"
      ],
      "execution_count": 44,
      "outputs": [
        {
          "output_type": "stream",
          "name": "stdout",
          "text": [
            "x1 = 2.0000000000000018\n",
            "x2 = -1.0000000000000009\n",
            "x3 = 1.0\n"
          ]
        }
      ]
    },
    {
      "cell_type": "markdown",
      "metadata": {
        "id": "KnH6fx8Ib7yV"
      },
      "source": [
        "__2.__ Найти $L$-матрицу $LU$-разложения для матрицы коэффициентов:\n",
        "\n",
        "   а)$$\\begin{pmatrix}\n",
        "1 & 2 & 4 \\\\ \n",
        "2 & 9 & 12 \\\\ \n",
        "3 & 26 & 30\n",
        "\\end{pmatrix}$$\n",
        "    \n",
        "   б)$$\\begin{pmatrix}\n",
        "1 & 1 & 2 & 4\\\\ \n",
        "2 & 5 & 8 & 9\\\\ \n",
        "3 & 18 & 29 & 18\\\\\n",
        "4 & 22 & 53 & 33\n",
        "\\end{pmatrix}$$"
      ]
    },
    {
      "cell_type": "markdown",
      "metadata": {
        "id": "U1Ezb1tL1e3o"
      },
      "source": [
        "а) $$\\begin{pmatrix}\n",
        "1 & 2 & 4 \\\\ \n",
        "2 & 9 & 12 \\\\ \n",
        "3 & 26 & 30\n",
        "\\end{pmatrix}$$\n",
        "Вычтем из 2й строки 1ю * 2\n",
        "\n",
        "из 3й строки 1ю * 3\n",
        "$$\\begin{pmatrix}\n",
        "1 & 2 & 4 \\\\ \n",
        "0 & 5 & 4 \\\\ \n",
        "0 & 20 & 18\n",
        "\\end{pmatrix}$$\n",
        "\n",
        "$$l_{21}=2$$\n",
        "$$l_{31}=3$$\n",
        "из 3й строки вычтем 2ю * 4\n",
        "\n",
        "$$l_{32}=4$$\n",
        "\n",
        "$$U=\\begin{pmatrix}\n",
        "1 & 2 & 4 \\\\ \n",
        "0 & 5 & 4 \\\\ \n",
        "0 & 0 & 2\n",
        "\\end{pmatrix}$$\n",
        "\n",
        "\n",
        "$$L=\\begin{pmatrix}\n",
        "1 & 0 & 0 \\\\ \n",
        "2 & 1 & 0\\\\ \n",
        "3 & 4 & 1\n",
        "\\end{pmatrix}$$\n",
        "\n",
        "\n"
      ]
    },
    {
      "cell_type": "markdown",
      "metadata": {
        "id": "U26PalFnXtKs"
      },
      "source": [
        "б)$$\\begin{pmatrix}\n",
        "1 & 1 & 2 & 4\\\\ \n",
        "2 & 5 & 8 & 9\\\\ \n",
        "3 & 18 & 29 & 18\\\\\n",
        "4 & 22 & 53 & 33\n",
        "\\end{pmatrix}$$\n",
        "\n",
        "\n",
        "\n",
        "$$l_{21}=2$$\n",
        "$$l_{31}=3$$\n",
        "$$l_{41}=4$$\n",
        "\n",
        "\n",
        "$$\\begin{pmatrix}\n",
        "1 & 1 & 2 & 4\\\\ \n",
        "0 & 3 & 4 & 1\\\\ \n",
        "0 & 15 & 23 & 6\\\\\n",
        "0 & 18 & 45 & 17\n",
        "\\end{pmatrix}$$\n",
        "\n",
        "\n",
        "$$l_{32}=5$$\n",
        "$$l_{42}=6$$\n",
        "\n",
        "\n",
        "$$\\begin{pmatrix}\n",
        "1 & 1 & 2 & 4\\\\ \n",
        "0 & 3 & 4 & 1\\\\ \n",
        "0 & 0 & 3 & 1\\\\\n",
        "0 & 0 & 21 & 11\n",
        "\\end{pmatrix}$$\n",
        "\n",
        "\n",
        "$$l_{43}=7$$\n",
        "\n",
        "\n",
        "$$U=\\begin{pmatrix}\n",
        "1 & 1 & 2 & 4\\\\ \n",
        "0 & 3 & 4 & 1\\\\ \n",
        "0 & 0 & 3 & 1\\\\\n",
        "0 & 0 & 0 & 4\n",
        "\\end{pmatrix}$$\n",
        "\n",
        "\n",
        "$$L=\\begin{pmatrix}\n",
        "1 & 0 & 0 & 0\\\\ \n",
        "2 & 1 & 0 & 0\\\\ \n",
        "3 & 5 & 1 & 0\\\\\n",
        "4 & 6 & 7 & 1\n",
        "\\end{pmatrix}$$"
      ]
    },
    {
      "cell_type": "markdown",
      "metadata": {
        "id": "Ixxovxzwg0RV"
      },
      "source": [
        "__5*.__ Написать на Python программу с реализацией одного из изученных алгоритмов решения СЛАУ."
      ]
    },
    {
      "cell_type": "code",
      "metadata": {
        "id": "ckko4JypgV9E"
      },
      "source": [
        "def LU(a, b):\n",
        "    cout = 0\n",
        "    m, n = a.shape\n",
        "    if (m !=n ):\n",
        "        print('Количество уравнений не равно количеству неизвестных.')\n",
        "    else:\n",
        "        l = np.zeros((n,n))\n",
        "        u = np.zeros((n,n))\n",
        "        s1 = 0\n",
        "        s2 = 0\n",
        "\n",
        "        for i in range(n):\n",
        "           l[i][0] = a[i][0]\n",
        "           u[i][i] = 1\n",
        "        for j in range(1, n):\n",
        "            u[0][j] = a[0][j] / l[0][0]\n",
        "        for k in range(1, n):\n",
        "            for i in range(k, n):\n",
        "                for r in range(k): s1 += l[i][r] * u[r][k]\n",
        "                l[i][k] = a[i][k] - s1\n",
        "                s1 = 0                # Инициализировать s1 после каждого суммирования=0\n",
        "            for j in range(k+1, n):\n",
        "                for r in range(k): s2 += l[k][r] * u[r][j]\n",
        "                u[k][j] = (a[k][j] - s2) / l[k][k]\n",
        "                s2 = 0                # Инициализировать s2 после каждого суммирования=0\n",
        "        print(u)\n",
        "        print(l)\n",
        "\n",
        "         #      \n",
        "        y = np.zeros(n)\n",
        "        s3 = 0\n",
        "        y[0] = b[0] / l[0][0]    # Сначала вычисляем первое x решение\n",
        "        for k in range(1, n):\n",
        "            for r in range(k):\n",
        "                s3 += l[k][r] * y[r]\n",
        "            y[k] = (b[k]-s3) / l[k][k]\n",
        "            s3 = 0\n",
        "\n",
        "                 # Back Generation Solve\n",
        "        x = np.zeros(n)\n",
        "        s4 = 0\n",
        "        x[n-1] = y[n-1]\n",
        "        for k in range(n-2, -1, -1):\n",
        "            for r in range(k+1, n):\n",
        "                s4 += u[k][r] * x[r]\n",
        "            x[k] = y[k] - s4\n",
        "            s4 = 0\n",
        "\n",
        "        for i in range(n):\n",
        "               print(\"x\" + str(i + 1) + \" = \", x[i])\n",
        "        print(\"x\" \" = \", x)"
      ],
      "execution_count": 46,
      "outputs": []
    },
    {
      "cell_type": "markdown",
      "metadata": {
        "id": "zYHgI1sWbogi"
      },
      "source": [
        "__3.__ Решить систему линейных уравнений методом $LU$-разложения\n",
        "\n",
        "$$\\begin{cases}\n",
        "2x_{1}+x_{2}+3x_{3}=1 \\\\\n",
        "11x_{1}+7x_{2}+5x_{3}=-6 \\\\\n",
        "9x_{1}+8x_{2}+4x_{3}=-5\n",
        "\\end{cases}$$"
      ]
    },
    {
      "cell_type": "code",
      "metadata": {
        "colab": {
          "base_uri": "https://localhost:8080/"
        },
        "id": "rc3IEp9pfxEY",
        "outputId": "a3d472b3-e567-4919-bcfe-1ba5c0bc52d3"
      },
      "source": [
        "a = np.array([[2, 1, 3], [11, 7, 5], [9, 8, 4]])\n",
        "b = np.array([1, -6, -5])\n",
        "LU(a, b)"
      ],
      "execution_count": 47,
      "outputs": [
        {
          "output_type": "stream",
          "name": "stdout",
          "text": [
            "[[ 1.          0.5         1.5       ]\n",
            " [ 0.          1.         -7.66666667]\n",
            " [ 0.          0.          1.        ]]\n",
            "[[ 2.          0.          0.        ]\n",
            " [11.          1.5         0.        ]\n",
            " [ 9.          3.5        17.33333333]]\n",
            "x1 =  -1.0\n",
            "x2 =  0.0\n",
            "x3 =  1.0\n",
            "x =  [-1.  0.  1.]\n"
          ]
        }
      ]
    },
    {
      "cell_type": "markdown",
      "metadata": {
        "id": "7XMED9I_hL28"
      },
      "source": [
        "__4.__ Решить систему линейных уравнений методом Холецкого\n",
        "\n",
        "$$\\begin{cases}\n",
        "81x_{1}-45x_{2}+45x_{3}=531 \\\\\n",
        "-45x_{1}+50x_{2}-15x_{3}=-460 \\\\\n",
        "45x_{1}-15x_{2}+38x_{3}=193\n",
        "\\end{cases}$$"
      ]
    },
    {
      "cell_type": "code",
      "metadata": {
        "colab": {
          "base_uri": "https://localhost:8080/"
        },
        "id": "BZb-nHXci_JA",
        "outputId": "48d54823-14f2-4d9b-82b0-9c33506ced99"
      },
      "source": [
        "A = np.array([[81, -45, 45], [-45, 50, -15], [45, -15, 38]])\n",
        "det_A = np.linalg.det(A)\n",
        "w, v = np.linalg.eig(A)\n",
        "print(f'Собственные значения:\\n{w}')\n",
        "print(f'Определитель: {det_A}')\n",
        "print(A == A.T)\n",
        "w > 0"
      ],
      "execution_count": 50,
      "outputs": [
        {
          "output_type": "stream",
          "name": "stdout",
          "text": [
            "Собственные значения:\n",
            "[134.72475295   4.55103023  29.72421681]\n",
            "Определитель: 18225.000000000007\n",
            "[[ True  True  True]\n",
            " [ True  True  True]\n",
            " [ True  True  True]]\n"
          ]
        },
        {
          "output_type": "execute_result",
          "data": {
            "text/plain": [
              "array([ True,  True,  True])"
            ]
          },
          "metadata": {},
          "execution_count": 50
        }
      ]
    },
    {
      "cell_type": "markdown",
      "metadata": {
        "id": "wJJuzDDzm-3_"
      },
      "source": [
        "Все условия для решения методом Холецкого соблюдины, тогда произведем разложение на $$LL^{T}$$\n",
        "$$l_{11}=\\sqrt{a_{11}}=9$$\n",
        "$$l_{21}=\\frac{a_{21}}{l_{11}}=-5$$\n",
        "$$l_{31}=\\frac{a_{21}}{l_{11}}=5$$\n",
        "$$l_{22}=\\sqrt{a_{22}-l_{21}^{2}}=\\sqrt{50 - (-5)^{2}}=5$$\n",
        "$$l_{32}=\\frac{1}{l_{22}}\\left ( a_{32}-l_{21}l_{31} \\right)=\\frac{1}{5}\\left ( -15 - (-5)\\cdot 5 \\right )=2$$\n",
        "$$l_{33}=\\sqrt{a_{33}-l_{31}^{2}-l_{32}^{2}}=\\sqrt{38-5^{2}-2^{2}}=3$$\n",
        "Получили\n",
        "$$L = \\begin{pmatrix}\n",
        "9 & 0 & 0 \\\\ \n",
        "-5 & 5 & 0 \\\\ \n",
        "5 & 2 & 3\n",
        "\\end{pmatrix}, \n",
        "\\; \\; \n",
        "L^{T} = \\begin{pmatrix}\n",
        "9 & -5 & 5 \\\\ \n",
        "0 & 5 & 2 \\\\ \n",
        "0 & 0 & 3\n",
        "\\end{pmatrix}.$$\n",
        "Решим систему $$Ly=b:$$\n",
        "\n",
        "$$\\begin{cases}\n",
        "9y_{1}=531, \\\\\n",
        "-5y_{1}+5y_{2}=-460, \\\\\n",
        "5y_{1}+2y_{2}+3y_{3}=193\n",
        "\\end{cases}$$\n",
        "\n",
        "$$y_{1} = 59,$$\n",
        "\n",
        "$$y_{2}==-33,$$\n",
        "\n",
        "$$y_{3}=-12$$\n",
        "\n",
        "\n",
        "$$L^{T}x=y:$$\n",
        "$$\\begin{cases}\n",
        "9x_{1}-5x_{2}+5x_{3}=59, \\\\\n",
        "5x_{2}+2x_{3}=-33, \\\\\n",
        "3x_{3}=-12.\n",
        "\\end{cases}$$\n",
        "\n",
        "$$x_{3}=-4,$$\n",
        "\n",
        "$$x_{2}=-5,$$\n",
        "\n",
        "$$x_{1}=6.$$"
      ]
    },
    {
      "cell_type": "code",
      "metadata": {
        "colab": {
          "base_uri": "https://localhost:8080/"
        },
        "id": "phYfG2c9y7Cw",
        "outputId": "b66bf608-23cc-44d6-aa46-3dc895a31ccb"
      },
      "source": [
        "print(np.linalg.cholesky(A))"
      ],
      "execution_count": 51,
      "outputs": [
        {
          "output_type": "stream",
          "name": "stdout",
          "text": [
            "[[ 9.  0.  0.]\n",
            " [-5.  5.  0.]\n",
            " [ 5.  2.  3.]]\n"
          ]
        }
      ]
    }
  ]
}