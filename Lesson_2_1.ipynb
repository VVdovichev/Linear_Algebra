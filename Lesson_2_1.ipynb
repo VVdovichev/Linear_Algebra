{
  "nbformat": 4,
  "nbformat_minor": 0,
  "metadata": {
    "colab": {
      "name": "Lesson_2_1.ipynb",
      "provenance": [],
      "collapsed_sections": [],
      "authorship_tag": "ABX9TyPCajDe78Uk+RaVAxQTZPv6",
      "include_colab_link": true
    },
    "kernelspec": {
      "name": "python3",
      "display_name": "Python 3"
    },
    "language_info": {
      "name": "python"
    }
  },
  "cells": [
    {
      "cell_type": "markdown",
      "metadata": {
        "id": "view-in-github",
        "colab_type": "text"
      },
      "source": [
        "<a href=\"https://colab.research.google.com/github/VVdovichev/Linear_Algebra/blob/main/Lesson_2_1.ipynb\" target=\"_parent\"><img src=\"https://colab.research.google.com/assets/colab-badge.svg\" alt=\"Open In Colab\"/></a>"
      ]
    },
    {
      "cell_type": "code",
      "metadata": {
        "id": "9Z6Te4YQzGUT"
      },
      "source": [
        "import numpy as np\n",
        "import random"
      ],
      "execution_count": 1,
      "outputs": []
    },
    {
      "cell_type": "markdown",
      "metadata": {
        "id": "rR_YrhLUzSSs"
      },
      "source": [
        "__1.__ Установить, какие произведения матриц AB и BA определены, и найти размерности полученных матриц:\n",
        "\n",
        "   а) A — матрица 4 * 2, $B$ — матрица 4 * 2;\n",
        "    \n",
        "   б) A — матрица 2 * 5, B — матрица 5 * 3;\n",
        "    \n",
        "   в) A — матрица 8 * 3, B — матрица 3 * 8;\n",
        "    \n",
        "   г) A — квадратная матрица 4 * 4, B — квадратная матрица 4 * 4."
      ]
    },
    {
      "cell_type": "markdown",
      "metadata": {
        "id": "WkqI3rgvzpUV"
      },
      "source": [
        "a) произведение матриц неопределено\n",
        "\n",
        "б) произведение матриц определено, итоговая матрица имеет размерность 2×3\n",
        "\n",
        "в) произведение матриц определено, итоговая матрица имеет размерность 8×8, 3×3\n",
        "\n",
        "г) произведение матриц определено, итоговая матрица имеет размерность 4×4"
      ]
    },
    {
      "cell_type": "markdown",
      "metadata": {
        "id": "EgmcZr5EzzBt"
      },
      "source": [
        "__2.__ Найти сумму и произведение матриц $$A=\\begin{pmatrix}\n",
        "1 & -2\\\\ \n",
        "3 & 0\n",
        "\\end{pmatrix}$$ и $$B=\\begin{pmatrix}\n",
        "4 & -1\\\\ \n",
        "0 & 5\n",
        "\\end{pmatrix}.$$"
      ]
    },
    {
      "cell_type": "code",
      "metadata": {
        "colab": {
          "base_uri": "https://localhost:8080/"
        },
        "id": "NEUnhgWv0tPN",
        "outputId": "577e15be-cd0c-47ab-fc1a-5c59edee1929"
      },
      "source": [
        "A = np.array([[1, -2] , [3, 0]])\n",
        "B = np.array([[4, -1], [0, 5]])\n",
        "print(f'сумма матриц:\\n{A + B}')\n",
        "print(f'произведение матриц AB:\\n{np.dot(A, B)}')\n",
        "print(f'произведение матриц BA:\\n{np.dot(B, A)}')"
      ],
      "execution_count": 2,
      "outputs": [
        {
          "output_type": "stream",
          "name": "stdout",
          "text": [
            "сумма матриц:\n",
            "[[ 5 -3]\n",
            " [ 3  5]]\n",
            "произведение матриц AB:\n",
            "[[  4 -11]\n",
            " [ 12  -3]]\n",
            "произведение матриц BA:\n",
            "[[ 1 -8]\n",
            " [15  0]]\n"
          ]
        }
      ]
    },
    {
      "cell_type": "markdown",
      "metadata": {
        "id": "LHx3XKgZ0slu"
      },
      "source": [
        "__3.__ Из закономерностей сложения и умножения матриц на число можно сделать вывод, что матрицы одного размера образуют линейное пространство. Вычислить линейную комбинацию 3A-2B+4C для матриц $$A=\\begin{pmatrix}\n",
        "1 & 7\\\\ \n",
        "3 & -6\n",
        "\\end{pmatrix}$$, $$B=\\begin{pmatrix}\n",
        "0 & 5\\\\ \n",
        "2 & -1\n",
        "\\end{pmatrix}$$, $$C=\\begin{pmatrix}\n",
        "2 & -4\\\\ \n",
        "1 & 1\n",
        "\\end{pmatrix}.$$"
      ]
    },
    {
      "cell_type": "code",
      "metadata": {
        "colab": {
          "base_uri": "https://localhost:8080/"
        },
        "id": "0SV2jDQB1JLp",
        "outputId": "8318bf7c-d336-4457-e276-45f71505d728"
      },
      "source": [
        "A = np.array([[1, 7] , [3, -6]])\n",
        "B = np.array([[0, 5], [2, -1]])\n",
        "C = np.array([[2, -4], [1, 1]])\n",
        "A_B_C = 3 * A - 2 * B + 4 * C\n",
        "A_B_C"
      ],
      "execution_count": 3,
      "outputs": [
        {
          "output_type": "execute_result",
          "data": {
            "text/plain": [
              "array([[ 11,  -5],\n",
              "       [  9, -12]])"
            ]
          },
          "metadata": {},
          "execution_count": 3
        }
      ]
    },
    {
      "cell_type": "markdown",
      "metadata": {
        "id": "nth8Xpkj1VAC"
      },
      "source": [
        "__4.__ Дана матрица $$A=\\begin{pmatrix}\n",
        "4 & 1\\\\ \n",
        "5 & -2\\\\ \n",
        "2 & 3\n",
        "\\end{pmatrix}$$.\n",
        "Вычислить $$AA^{T}$$ и $$A^{T}A$$."
      ]
    },
    {
      "cell_type": "code",
      "metadata": {
        "colab": {
          "base_uri": "https://localhost:8080/"
        },
        "id": "z9E1SMiK1SBA",
        "outputId": "be5ae47c-05e2-46a9-f8ae-44ac280a4aae"
      },
      "source": [
        "A = np.array([[4, 1] , [5, -2], [2, 3]])\n",
        "print(np.dot(A, A.T))\n",
        "print(np.dot(A.T, A))"
      ],
      "execution_count": 4,
      "outputs": [
        {
          "output_type": "stream",
          "name": "stdout",
          "text": [
            "[[17 18 11]\n",
            " [18 29  4]\n",
            " [11  4 13]]\n",
            "[[45  0]\n",
            " [ 0 14]]\n"
          ]
        }
      ]
    },
    {
      "cell_type": "markdown",
      "metadata": {
        "id": "4rofWyvU47vh"
      },
      "source": [
        "__5*.__ Написать на Python функцию для перемножения двух произвольных матриц, не используя NumPy."
      ]
    },
    {
      "cell_type": "code",
      "metadata": {
        "colab": {
          "base_uri": "https://localhost:8080/"
        },
        "id": "7Rt67Wk63eza",
        "outputId": "093b49f6-62e7-440f-f622-065a78551547"
      },
      "source": [
        "def matrixmult(m1,m2):\n",
        "    s=0     #сумма\n",
        "    t=[]    #временная матрица\n",
        "    m3=[] # конечная матрица\n",
        "    if len(m2)!=len(m1[0]):\n",
        "        print(\"Матрицы не могут быть перемножены\")        \n",
        "    else:\n",
        "        r1=len(m1) #количество строк в первой матрице\n",
        "        c1=len(m1[0]) #Количество столбцов в 1   \n",
        "        r2=c1           #и строк во 2ой матрице\n",
        "        c2=len(m2[0])  # количество столбцов во 2ой матрице\n",
        "        for z in range(0,r1):\n",
        "            for j in range(0,c2):\n",
        "                for i in range(0,c1):\n",
        "                   s=s+m1[z][i]*m2[i][j]\n",
        "                t.append(s)\n",
        "                s=0\n",
        "            m3.append(t)\n",
        "            t=[]           \n",
        "    return np.array(m3)\n",
        " \n",
        "def creatematrix(r,c):\n",
        "    t=[]\n",
        "    m=[]\n",
        "    for i in range(0,r):\n",
        "        for j in range(0,c):\n",
        "            t.append(random.randint(1,10))\n",
        "        m.append(t)\n",
        "        t=[]\n",
        "    return np.array(m)\n",
        " \n",
        "c1=1\n",
        "r2=2\n",
        "while c1!=r2:\n",
        "    print(\"Кол-во столбцов в 1 матрице должно быть = кол-ву строк 2 матрицы\")\n",
        "    r1=int(input('Введите кол-во строк для 1 матрицы >'))\n",
        "    c1=int(input('Введите кол-во столбцов для 1 матрицы>'))\n",
        "    r2=int(input('Введите кол-во строк для второй матрицы >'))\n",
        "    c2=int(input('Введите кол-во столбцов для 2 матрицы >'))\n",
        "    \n",
        " \n",
        "m1=creatematrix(r1,c1)\n",
        "m2=creatematrix(r2,c2)\n",
        "    \n",
        " \n",
        "print(\"1я матрица \\n\", m1)\n",
        "print('2я матрица \\n', m2)\n",
        " \n",
        "m3=matrixmult(m1,m2)\n",
        "print(\"произведение матриц \\n\", m3)"
      ],
      "execution_count": 5,
      "outputs": [
        {
          "output_type": "stream",
          "name": "stdout",
          "text": [
            "Кол-во столбцов в 1 матрице должно быть = кол-ву строк 2 матрицы\n",
            "Введите кол-во строк для 1 матрицы >2\n",
            "Введите кол-во столбцов для 1 матрицы>2\n",
            "Введите кол-во строк для второй матрицы >2\n",
            "Введите кол-во столбцов для 2 матрицы >2\n",
            "1я матрица \n",
            " [[ 9  5]\n",
            " [10  8]]\n",
            "2я матрица \n",
            " [[4 3]\n",
            " [3 2]]\n",
            "произведение матриц \n",
            " [[51 37]\n",
            " [64 46]]\n"
          ]
        }
      ]
    }
  ]
}